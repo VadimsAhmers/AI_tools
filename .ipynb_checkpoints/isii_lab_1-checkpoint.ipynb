{
 "cells": [
  {
   "cell_type": "code",
   "execution_count": 64,
   "id": "d933d51d",
   "metadata": {},
   "outputs": [],
   "source": [
    "import numpy as np\n",
    "import pandas as pd"
   ]
  },
  {
   "cell_type": "markdown",
   "id": "5f916d9a",
   "metadata": {},
   "source": [
    "NumPy и Pandas уже установлены"
   ]
  },
  {
   "cell_type": "markdown",
   "id": "880fb29a",
   "metadata": {},
   "source": [
    "#### Выполним генерацию вектора чисел с плавающей точкой"
   ]
  },
  {
   "cell_type": "code",
   "execution_count": 65,
   "id": "682cbd6b",
   "metadata": {},
   "outputs": [],
   "source": [
    "# размерность матрицы и вектора\n",
    "n = 1000"
   ]
  },
  {
   "cell_type": "code",
   "execution_count": 66,
   "id": "b661dcee",
   "metadata": {},
   "outputs": [
    {
     "name": "stdout",
     "output_type": "stream",
     "text": [
      "CPU times: user 2.54 ms, sys: 1.38 ms, total: 3.92 ms\n",
      "Wall time: 2.2 ms\n"
     ]
    }
   ],
   "source": [
    "%%time\n",
    "vector = np.arange(n*n, dtype=float)"
   ]
  },
  {
   "cell_type": "code",
   "execution_count": 67,
   "id": "64ecca87",
   "metadata": {},
   "outputs": [
    {
     "name": "stdout",
     "output_type": "stream",
     "text": [
      "CPU times: user 77.1 ms, sys: 37.8 ms, total: 115 ms\n",
      "Wall time: 131 ms\n"
     ]
    }
   ],
   "source": [
    "%%time\n",
    "lis_standart = [i for i in range(n*n)] # стандартными средствами Python"
   ]
  },
  {
   "cell_type": "markdown",
   "id": "a3f524c2",
   "metadata": {},
   "source": [
    "#### Выполним генерацию матриц чисел с плавающей точкой"
   ]
  },
  {
   "cell_type": "code",
   "execution_count": 68,
   "id": "9bc72297",
   "metadata": {},
   "outputs": [
    {
     "name": "stdout",
     "output_type": "stream",
     "text": [
      "CPU times: user 41 µs, sys: 1.54 ms, total: 1.59 ms\n",
      "Wall time: 1.69 ms\n"
     ]
    }
   ],
   "source": [
    "%%time\n",
    "vector_reshaped = vector.reshape(n,n)"
   ]
  },
  {
   "cell_type": "code",
   "execution_count": 69,
   "id": "cb9c71e4",
   "metadata": {},
   "outputs": [
    {
     "name": "stdout",
     "output_type": "stream",
     "text": [
      "CPU times: user 4.14 ms, sys: 6.66 ms, total: 10.8 ms\n",
      "Wall time: 10.6 ms\n"
     ]
    }
   ],
   "source": [
    "%%time\n",
    "identity_matrix = np.identity(n, dtype=float ) # единичная матрица"
   ]
  },
  {
   "cell_type": "markdown",
   "id": "e421b40c",
   "metadata": {},
   "source": [
    "Единичная матрица стандартными методами Python:"
   ]
  },
  {
   "cell_type": "code",
   "execution_count": 74,
   "id": "cbf6c505",
   "metadata": {},
   "outputs": [],
   "source": [
    "def identity_matrix_standart(num):\n",
    "    return [[int(j==i) for j in range(a)] for i in range[a]] "
   ]
  },
  {
   "cell_type": "code",
   "execution_count": 75,
   "id": "eec51bf1",
   "metadata": {},
   "outputs": [
    {
     "ename": "TypeError",
     "evalue": "'type' object is not subscriptable",
     "output_type": "error",
     "traceback": [
      "\u001b[0;31m---------------------------------------------------------------------------\u001b[0m",
      "\u001b[0;31mTypeError\u001b[0m                                 Traceback (most recent call last)",
      "File \u001b[0;32m<timed exec>:1\u001b[0m, in \u001b[0;36m<module>\u001b[0;34m\u001b[0m\n",
      "Input \u001b[0;32mIn [74]\u001b[0m, in \u001b[0;36midentity_matrix_standart\u001b[0;34m(num)\u001b[0m\n\u001b[1;32m      1\u001b[0m \u001b[38;5;28;01mdef\u001b[39;00m \u001b[38;5;21midentity_matrix_standart\u001b[39m(num):\n\u001b[0;32m----> 2\u001b[0m     \u001b[38;5;28;01mreturn\u001b[39;00m [[\u001b[38;5;28mint\u001b[39m(j\u001b[38;5;241m==\u001b[39mi) \u001b[38;5;28;01mfor\u001b[39;00m j \u001b[38;5;129;01min\u001b[39;00m \u001b[38;5;28mrange\u001b[39m(a)] \u001b[38;5;28;01mfor\u001b[39;00m i \u001b[38;5;129;01min\u001b[39;00m \u001b[38;5;28;43mrange\u001b[39;49m\u001b[43m[\u001b[49m\u001b[43ma\u001b[49m\u001b[43m]\u001b[49m]\n",
      "\u001b[0;31mTypeError\u001b[0m: 'type' object is not subscriptable"
     ]
    }
   ],
   "source": [
    "%%time\n",
    "ims = identity_matrix_standart(n)"
   ]
  },
  {
   "cell_type": "code",
   "execution_count": null,
   "id": "11bd62ce",
   "metadata": {},
   "outputs": [],
   "source": []
  }
 ],
 "metadata": {
  "kernelspec": {
   "display_name": "Python 3 (ipykernel)",
   "language": "python",
   "name": "python3"
  },
  "language_info": {
   "codemirror_mode": {
    "name": "ipython",
    "version": 3
   },
   "file_extension": ".py",
   "mimetype": "text/x-python",
   "name": "python",
   "nbconvert_exporter": "python",
   "pygments_lexer": "ipython3",
   "version": "3.9.12"
  }
 },
 "nbformat": 4,
 "nbformat_minor": 5
}
